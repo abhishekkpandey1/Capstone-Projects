{
 "cells": [
  {
   "cell_type": "code",
   "execution_count": 1,
   "metadata": {},
   "outputs": [],
   "source": [
    "import pandas as pd\n",
    "import numpy as np\n",
    "import seaborn as sns"
   ]
  },
  {
   "cell_type": "code",
   "execution_count": 2,
   "metadata": {},
   "outputs": [],
   "source": [
    "bone_train=pd.read_table('train-io.txt',sep=\" \",names=[\"V1\",\"V2\",\"V3\",\"V4\",\"V5\",\"V6\",\"V7\",\"V8\",\"V9\",\"V10\",\"V11\",\"V12\",\"Class\"] )\n",
    "bone_test=pd.read_table('test-in.txt',sep=\" \",names=[\"V1\",\"V2\",\"V3\",\"V4\",\"V5\",\"V6\",\"V7\",\"V8\",\"V9\",\"V10\",\"V11\",\"V12\",\"Class\"] )"
   ]
  },
  {
   "cell_type": "code",
   "execution_count": 3,
   "metadata": {},
   "outputs": [
    {
     "data": {
      "text/plain": [
       "(300000, 13)"
      ]
     },
     "execution_count": 3,
     "metadata": {},
     "output_type": "execute_result"
    }
   ],
   "source": [
    "bone_train.shape"
   ]
  },
  {
   "cell_type": "code",
   "execution_count": 4,
   "metadata": {},
   "outputs": [
    {
     "data": {
      "text/plain": [
       "(10000, 13)"
      ]
     },
     "execution_count": 4,
     "metadata": {},
     "output_type": "execute_result"
    }
   ],
   "source": [
    "bone_test.shape"
   ]
  },
  {
   "cell_type": "code",
   "execution_count": 5,
   "metadata": {},
   "outputs": [
    {
     "name": "stdout",
     "output_type": "stream",
     "text": [
      "<class 'pandas.core.frame.DataFrame'>\n",
      "RangeIndex: 300000 entries, 0 to 299999\n",
      "Data columns (total 13 columns):\n",
      " #   Column  Non-Null Count   Dtype  \n",
      "---  ------  --------------   -----  \n",
      " 0   V1      300000 non-null  float64\n",
      " 1   V2      300000 non-null  float64\n",
      " 2   V3      300000 non-null  float64\n",
      " 3   V4      300000 non-null  float64\n",
      " 4   V5      300000 non-null  float64\n",
      " 5   V6      300000 non-null  float64\n",
      " 6   V7      300000 non-null  float64\n",
      " 7   V8      300000 non-null  float64\n",
      " 8   V9      300000 non-null  float64\n",
      " 9   V10     300000 non-null  float64\n",
      " 10  V11     300000 non-null  float64\n",
      " 11  V12     300000 non-null  float64\n",
      " 12  Class   300000 non-null  int64  \n",
      "dtypes: float64(12), int64(1)\n",
      "memory usage: 29.8 MB\n"
     ]
    }
   ],
   "source": [
    "bone_train.info()"
   ]
  },
  {
   "cell_type": "code",
   "execution_count": 6,
   "metadata": {},
   "outputs": [
    {
     "name": "stdout",
     "output_type": "stream",
     "text": [
      "<class 'pandas.core.frame.DataFrame'>\n",
      "RangeIndex: 10000 entries, 0 to 9999\n",
      "Data columns (total 13 columns):\n",
      " #   Column  Non-Null Count  Dtype  \n",
      "---  ------  --------------  -----  \n",
      " 0   V1      10000 non-null  float64\n",
      " 1   V2      10000 non-null  float64\n",
      " 2   V3      10000 non-null  float64\n",
      " 3   V4      10000 non-null  float64\n",
      " 4   V5      10000 non-null  float64\n",
      " 5   V6      10000 non-null  float64\n",
      " 6   V7      10000 non-null  float64\n",
      " 7   V8      10000 non-null  float64\n",
      " 8   V9      10000 non-null  float64\n",
      " 9   V10     10000 non-null  float64\n",
      " 10  V11     10000 non-null  float64\n",
      " 11  V12     10000 non-null  float64\n",
      " 12  Class   0 non-null      float64\n",
      "dtypes: float64(13)\n",
      "memory usage: 1015.8 KB\n"
     ]
    }
   ],
   "source": [
    "bone_test.info()"
   ]
  },
  {
   "cell_type": "code",
   "execution_count": 7,
   "metadata": {},
   "outputs": [
    {
     "data": {
      "text/html": [
       "<div>\n",
       "<style scoped>\n",
       "    .dataframe tbody tr th:only-of-type {\n",
       "        vertical-align: middle;\n",
       "    }\n",
       "\n",
       "    .dataframe tbody tr th {\n",
       "        vertical-align: top;\n",
       "    }\n",
       "\n",
       "    .dataframe thead th {\n",
       "        text-align: right;\n",
       "    }\n",
       "</style>\n",
       "<table border=\"1\" class=\"dataframe\">\n",
       "  <thead>\n",
       "    <tr style=\"text-align: right;\">\n",
       "      <th></th>\n",
       "      <th>V1</th>\n",
       "      <th>V2</th>\n",
       "      <th>V3</th>\n",
       "      <th>V4</th>\n",
       "      <th>V5</th>\n",
       "      <th>V6</th>\n",
       "      <th>V7</th>\n",
       "      <th>V8</th>\n",
       "      <th>V9</th>\n",
       "      <th>V10</th>\n",
       "      <th>V11</th>\n",
       "      <th>V12</th>\n",
       "      <th>Class</th>\n",
       "    </tr>\n",
       "  </thead>\n",
       "  <tbody>\n",
       "    <tr>\n",
       "      <th>count</th>\n",
       "      <td>300000.000000</td>\n",
       "      <td>300000.000000</td>\n",
       "      <td>300000.000000</td>\n",
       "      <td>300000.000000</td>\n",
       "      <td>300000.000000</td>\n",
       "      <td>300000.000000</td>\n",
       "      <td>300000.000000</td>\n",
       "      <td>300000.000000</td>\n",
       "      <td>300000.000000</td>\n",
       "      <td>300000.000000</td>\n",
       "      <td>300000.000000</td>\n",
       "      <td>300000.000000</td>\n",
       "      <td>300000.000000</td>\n",
       "    </tr>\n",
       "    <tr>\n",
       "      <th>mean</th>\n",
       "      <td>0.001561</td>\n",
       "      <td>0.002457</td>\n",
       "      <td>-0.005185</td>\n",
       "      <td>0.006074</td>\n",
       "      <td>0.000741</td>\n",
       "      <td>-0.000203</td>\n",
       "      <td>-0.002567</td>\n",
       "      <td>0.001268</td>\n",
       "      <td>0.001594</td>\n",
       "      <td>-0.000799</td>\n",
       "      <td>0.003028</td>\n",
       "      <td>0.000203</td>\n",
       "      <td>0.536923</td>\n",
       "    </tr>\n",
       "    <tr>\n",
       "      <th>std</th>\n",
       "      <td>1.365103</td>\n",
       "      <td>2.490556</td>\n",
       "      <td>1.876387</td>\n",
       "      <td>1.804831</td>\n",
       "      <td>1.795162</td>\n",
       "      <td>1.429625</td>\n",
       "      <td>1.617683</td>\n",
       "      <td>1.690664</td>\n",
       "      <td>1.968389</td>\n",
       "      <td>1.763315</td>\n",
       "      <td>2.563023</td>\n",
       "      <td>2.270490</td>\n",
       "      <td>0.498636</td>\n",
       "    </tr>\n",
       "    <tr>\n",
       "      <th>min</th>\n",
       "      <td>-5.002253</td>\n",
       "      <td>-9.426396</td>\n",
       "      <td>-6.889677</td>\n",
       "      <td>-6.727678</td>\n",
       "      <td>-6.814575</td>\n",
       "      <td>-5.760816</td>\n",
       "      <td>-5.872210</td>\n",
       "      <td>-6.586501</td>\n",
       "      <td>-7.682507</td>\n",
       "      <td>-5.916694</td>\n",
       "      <td>-9.062599</td>\n",
       "      <td>-7.906362</td>\n",
       "      <td>0.000000</td>\n",
       "    </tr>\n",
       "    <tr>\n",
       "      <th>25%</th>\n",
       "      <td>-0.952502</td>\n",
       "      <td>-1.740190</td>\n",
       "      <td>-1.298558</td>\n",
       "      <td>-1.241131</td>\n",
       "      <td>-1.241468</td>\n",
       "      <td>-0.993113</td>\n",
       "      <td>-1.123300</td>\n",
       "      <td>-1.160992</td>\n",
       "      <td>-1.348983</td>\n",
       "      <td>-1.250013</td>\n",
       "      <td>-1.780738</td>\n",
       "      <td>-1.617117</td>\n",
       "      <td>0.000000</td>\n",
       "    </tr>\n",
       "    <tr>\n",
       "      <th>50%</th>\n",
       "      <td>-0.000281</td>\n",
       "      <td>0.008743</td>\n",
       "      <td>-0.008429</td>\n",
       "      <td>0.005833</td>\n",
       "      <td>0.000955</td>\n",
       "      <td>-0.000509</td>\n",
       "      <td>-0.000990</td>\n",
       "      <td>0.002279</td>\n",
       "      <td>0.004482</td>\n",
       "      <td>-0.003854</td>\n",
       "      <td>0.002945</td>\n",
       "      <td>-0.001004</td>\n",
       "      <td>1.000000</td>\n",
       "    </tr>\n",
       "    <tr>\n",
       "      <th>75%</th>\n",
       "      <td>0.955652</td>\n",
       "      <td>1.740665</td>\n",
       "      <td>1.286573</td>\n",
       "      <td>1.250123</td>\n",
       "      <td>1.239215</td>\n",
       "      <td>0.986780</td>\n",
       "      <td>1.120642</td>\n",
       "      <td>1.162634</td>\n",
       "      <td>1.354382</td>\n",
       "      <td>1.250520</td>\n",
       "      <td>1.789299</td>\n",
       "      <td>1.622262</td>\n",
       "      <td>1.000000</td>\n",
       "    </tr>\n",
       "    <tr>\n",
       "      <th>max</th>\n",
       "      <td>4.684574</td>\n",
       "      <td>8.898895</td>\n",
       "      <td>7.453131</td>\n",
       "      <td>6.715654</td>\n",
       "      <td>6.548304</td>\n",
       "      <td>5.574340</td>\n",
       "      <td>6.122361</td>\n",
       "      <td>6.354650</td>\n",
       "      <td>7.507812</td>\n",
       "      <td>6.293319</td>\n",
       "      <td>8.771217</td>\n",
       "      <td>7.918844</td>\n",
       "      <td>1.000000</td>\n",
       "    </tr>\n",
       "  </tbody>\n",
       "</table>\n",
       "</div>"
      ],
      "text/plain": [
       "                  V1             V2             V3             V4  \\\n",
       "count  300000.000000  300000.000000  300000.000000  300000.000000   \n",
       "mean        0.001561       0.002457      -0.005185       0.006074   \n",
       "std         1.365103       2.490556       1.876387       1.804831   \n",
       "min        -5.002253      -9.426396      -6.889677      -6.727678   \n",
       "25%        -0.952502      -1.740190      -1.298558      -1.241131   \n",
       "50%        -0.000281       0.008743      -0.008429       0.005833   \n",
       "75%         0.955652       1.740665       1.286573       1.250123   \n",
       "max         4.684574       8.898895       7.453131       6.715654   \n",
       "\n",
       "                  V5             V6             V7             V8  \\\n",
       "count  300000.000000  300000.000000  300000.000000  300000.000000   \n",
       "mean        0.000741      -0.000203      -0.002567       0.001268   \n",
       "std         1.795162       1.429625       1.617683       1.690664   \n",
       "min        -6.814575      -5.760816      -5.872210      -6.586501   \n",
       "25%        -1.241468      -0.993113      -1.123300      -1.160992   \n",
       "50%         0.000955      -0.000509      -0.000990       0.002279   \n",
       "75%         1.239215       0.986780       1.120642       1.162634   \n",
       "max         6.548304       5.574340       6.122361       6.354650   \n",
       "\n",
       "                  V9            V10            V11            V12  \\\n",
       "count  300000.000000  300000.000000  300000.000000  300000.000000   \n",
       "mean        0.001594      -0.000799       0.003028       0.000203   \n",
       "std         1.968389       1.763315       2.563023       2.270490   \n",
       "min        -7.682507      -5.916694      -9.062599      -7.906362   \n",
       "25%        -1.348983      -1.250013      -1.780738      -1.617117   \n",
       "50%         0.004482      -0.003854       0.002945      -0.001004   \n",
       "75%         1.354382       1.250520       1.789299       1.622262   \n",
       "max         7.507812       6.293319       8.771217       7.918844   \n",
       "\n",
       "               Class  \n",
       "count  300000.000000  \n",
       "mean        0.536923  \n",
       "std         0.498636  \n",
       "min         0.000000  \n",
       "25%         0.000000  \n",
       "50%         1.000000  \n",
       "75%         1.000000  \n",
       "max         1.000000  "
      ]
     },
     "execution_count": 7,
     "metadata": {},
     "output_type": "execute_result"
    }
   ],
   "source": [
    "bone_train.describe()"
   ]
  },
  {
   "cell_type": "code",
   "execution_count": 8,
   "metadata": {},
   "outputs": [
    {
     "data": {
      "text/html": [
       "<div>\n",
       "<style scoped>\n",
       "    .dataframe tbody tr th:only-of-type {\n",
       "        vertical-align: middle;\n",
       "    }\n",
       "\n",
       "    .dataframe tbody tr th {\n",
       "        vertical-align: top;\n",
       "    }\n",
       "\n",
       "    .dataframe thead th {\n",
       "        text-align: right;\n",
       "    }\n",
       "</style>\n",
       "<table border=\"1\" class=\"dataframe\">\n",
       "  <thead>\n",
       "    <tr style=\"text-align: right;\">\n",
       "      <th></th>\n",
       "      <th>V1</th>\n",
       "      <th>V2</th>\n",
       "      <th>V3</th>\n",
       "      <th>V4</th>\n",
       "      <th>V5</th>\n",
       "      <th>V6</th>\n",
       "      <th>V7</th>\n",
       "      <th>V8</th>\n",
       "      <th>V9</th>\n",
       "      <th>V10</th>\n",
       "      <th>V11</th>\n",
       "      <th>V12</th>\n",
       "      <th>Class</th>\n",
       "    </tr>\n",
       "  </thead>\n",
       "  <tbody>\n",
       "    <tr>\n",
       "      <th>count</th>\n",
       "      <td>10000.000000</td>\n",
       "      <td>10000.000000</td>\n",
       "      <td>10000.000000</td>\n",
       "      <td>10000.000000</td>\n",
       "      <td>10000.000000</td>\n",
       "      <td>10000.000000</td>\n",
       "      <td>10000.000000</td>\n",
       "      <td>10000.000000</td>\n",
       "      <td>10000.000000</td>\n",
       "      <td>10000.000000</td>\n",
       "      <td>10000.000000</td>\n",
       "      <td>10000.000000</td>\n",
       "      <td>0.0</td>\n",
       "    </tr>\n",
       "    <tr>\n",
       "      <th>mean</th>\n",
       "      <td>0.011610</td>\n",
       "      <td>0.021700</td>\n",
       "      <td>-0.018140</td>\n",
       "      <td>-0.003110</td>\n",
       "      <td>-0.017066</td>\n",
       "      <td>0.030443</td>\n",
       "      <td>-0.017363</td>\n",
       "      <td>0.034043</td>\n",
       "      <td>0.005046</td>\n",
       "      <td>0.004622</td>\n",
       "      <td>-0.035018</td>\n",
       "      <td>0.015118</td>\n",
       "      <td>NaN</td>\n",
       "    </tr>\n",
       "    <tr>\n",
       "      <th>std</th>\n",
       "      <td>1.368956</td>\n",
       "      <td>2.481404</td>\n",
       "      <td>1.864776</td>\n",
       "      <td>1.820609</td>\n",
       "      <td>1.802587</td>\n",
       "      <td>1.427254</td>\n",
       "      <td>1.604725</td>\n",
       "      <td>1.689423</td>\n",
       "      <td>1.981194</td>\n",
       "      <td>1.764340</td>\n",
       "      <td>2.590196</td>\n",
       "      <td>2.286443</td>\n",
       "      <td>NaN</td>\n",
       "    </tr>\n",
       "    <tr>\n",
       "      <th>min</th>\n",
       "      <td>-4.408787</td>\n",
       "      <td>-8.093466</td>\n",
       "      <td>-6.026251</td>\n",
       "      <td>-5.863743</td>\n",
       "      <td>-5.873528</td>\n",
       "      <td>-5.031098</td>\n",
       "      <td>-5.217669</td>\n",
       "      <td>-5.688478</td>\n",
       "      <td>-7.005907</td>\n",
       "      <td>-5.261088</td>\n",
       "      <td>-7.766920</td>\n",
       "      <td>-7.495145</td>\n",
       "      <td>NaN</td>\n",
       "    </tr>\n",
       "    <tr>\n",
       "      <th>25%</th>\n",
       "      <td>-0.948577</td>\n",
       "      <td>-1.711704</td>\n",
       "      <td>-1.300077</td>\n",
       "      <td>-1.258086</td>\n",
       "      <td>-1.287932</td>\n",
       "      <td>-0.955839</td>\n",
       "      <td>-1.141905</td>\n",
       "      <td>-1.105565</td>\n",
       "      <td>-1.340489</td>\n",
       "      <td>-1.234548</td>\n",
       "      <td>-1.831369</td>\n",
       "      <td>-1.625593</td>\n",
       "      <td>NaN</td>\n",
       "    </tr>\n",
       "    <tr>\n",
       "      <th>50%</th>\n",
       "      <td>0.010216</td>\n",
       "      <td>0.035234</td>\n",
       "      <td>-0.012116</td>\n",
       "      <td>0.025442</td>\n",
       "      <td>-0.021534</td>\n",
       "      <td>0.035791</td>\n",
       "      <td>-0.022627</td>\n",
       "      <td>0.044145</td>\n",
       "      <td>-0.004607</td>\n",
       "      <td>-0.026299</td>\n",
       "      <td>-0.069388</td>\n",
       "      <td>0.005850</td>\n",
       "      <td>NaN</td>\n",
       "    </tr>\n",
       "    <tr>\n",
       "      <th>75%</th>\n",
       "      <td>0.969387</td>\n",
       "      <td>1.723360</td>\n",
       "      <td>1.258553</td>\n",
       "      <td>1.254776</td>\n",
       "      <td>1.239975</td>\n",
       "      <td>1.021992</td>\n",
       "      <td>1.098103</td>\n",
       "      <td>1.194472</td>\n",
       "      <td>1.386526</td>\n",
       "      <td>1.276352</td>\n",
       "      <td>1.809638</td>\n",
       "      <td>1.662841</td>\n",
       "      <td>NaN</td>\n",
       "    </tr>\n",
       "    <tr>\n",
       "      <th>max</th>\n",
       "      <td>4.580153</td>\n",
       "      <td>8.288230</td>\n",
       "      <td>6.407906</td>\n",
       "      <td>6.267587</td>\n",
       "      <td>6.165752</td>\n",
       "      <td>4.862855</td>\n",
       "      <td>5.386620</td>\n",
       "      <td>5.751943</td>\n",
       "      <td>7.186985</td>\n",
       "      <td>5.395627</td>\n",
       "      <td>7.746289</td>\n",
       "      <td>6.724047</td>\n",
       "      <td>NaN</td>\n",
       "    </tr>\n",
       "  </tbody>\n",
       "</table>\n",
       "</div>"
      ],
      "text/plain": [
       "                 V1            V2            V3            V4            V5  \\\n",
       "count  10000.000000  10000.000000  10000.000000  10000.000000  10000.000000   \n",
       "mean       0.011610      0.021700     -0.018140     -0.003110     -0.017066   \n",
       "std        1.368956      2.481404      1.864776      1.820609      1.802587   \n",
       "min       -4.408787     -8.093466     -6.026251     -5.863743     -5.873528   \n",
       "25%       -0.948577     -1.711704     -1.300077     -1.258086     -1.287932   \n",
       "50%        0.010216      0.035234     -0.012116      0.025442     -0.021534   \n",
       "75%        0.969387      1.723360      1.258553      1.254776      1.239975   \n",
       "max        4.580153      8.288230      6.407906      6.267587      6.165752   \n",
       "\n",
       "                 V6            V7            V8            V9           V10  \\\n",
       "count  10000.000000  10000.000000  10000.000000  10000.000000  10000.000000   \n",
       "mean       0.030443     -0.017363      0.034043      0.005046      0.004622   \n",
       "std        1.427254      1.604725      1.689423      1.981194      1.764340   \n",
       "min       -5.031098     -5.217669     -5.688478     -7.005907     -5.261088   \n",
       "25%       -0.955839     -1.141905     -1.105565     -1.340489     -1.234548   \n",
       "50%        0.035791     -0.022627      0.044145     -0.004607     -0.026299   \n",
       "75%        1.021992      1.098103      1.194472      1.386526      1.276352   \n",
       "max        4.862855      5.386620      5.751943      7.186985      5.395627   \n",
       "\n",
       "                V11           V12  Class  \n",
       "count  10000.000000  10000.000000    0.0  \n",
       "mean      -0.035018      0.015118    NaN  \n",
       "std        2.590196      2.286443    NaN  \n",
       "min       -7.766920     -7.495145    NaN  \n",
       "25%       -1.831369     -1.625593    NaN  \n",
       "50%       -0.069388      0.005850    NaN  \n",
       "75%        1.809638      1.662841    NaN  \n",
       "max        7.746289      6.724047    NaN  "
      ]
     },
     "execution_count": 8,
     "metadata": {},
     "output_type": "execute_result"
    }
   ],
   "source": [
    "bone_test.describe()"
   ]
  },
  {
   "cell_type": "code",
   "execution_count": 9,
   "metadata": {
    "scrolled": true
   },
   "outputs": [
    {
     "data": {
      "text/plain": [
       "V1       0\n",
       "V2       0\n",
       "V3       0\n",
       "V4       0\n",
       "V5       0\n",
       "V6       0\n",
       "V7       0\n",
       "V8       0\n",
       "V9       0\n",
       "V10      0\n",
       "V11      0\n",
       "V12      0\n",
       "Class    0\n",
       "dtype: int64"
      ]
     },
     "execution_count": 9,
     "metadata": {},
     "output_type": "execute_result"
    }
   ],
   "source": [
    "# Checking for NA values in the train dataset\n",
    "bone_train.isna().sum()"
   ]
  },
  {
   "cell_type": "code",
   "execution_count": 10,
   "metadata": {},
   "outputs": [
    {
     "data": {
      "text/plain": [
       "V1           0\n",
       "V2           0\n",
       "V3           0\n",
       "V4           0\n",
       "V5           0\n",
       "V6           0\n",
       "V7           0\n",
       "V8           0\n",
       "V9           0\n",
       "V10          0\n",
       "V11          0\n",
       "V12          0\n",
       "Class    10000\n",
       "dtype: int64"
      ]
     },
     "execution_count": 10,
     "metadata": {},
     "output_type": "execute_result"
    }
   ],
   "source": [
    "# Checking for NA values in the test dataset\n",
    "bone_test.isna().sum()"
   ]
  },
  {
   "cell_type": "code",
   "execution_count": 11,
   "metadata": {
    "scrolled": true
   },
   "outputs": [
    {
     "name": "stdout",
     "output_type": "stream",
     "text": [
      "Percentage of Class 0 data 46.30766666666667\n",
      "Percentage of Class 1 data 53.69233333333333\n"
     ]
    },
    {
     "data": {
      "text/plain": [
       "<matplotlib.axes._subplots.AxesSubplot at 0x2402a838f88>"
      ]
     },
     "execution_count": 11,
     "metadata": {},
     "output_type": "execute_result"
    },
    {
     "data": {
      "image/png": "[encoded data removed]",
      "text/plain": [
       "<Figure size 432x288 with 1 Axes>"
      ]
     },
     "metadata": {
      "needs_background": "light"
     },
     "output_type": "display_data"
    }
   ],
   "source": [
    "# Checking Imbalance in the train dataset\n",
    "Class0=bone_train['Class'].value_counts()[0]/len(bone_train) *100\n",
    "Class1=bone_train['Class'].value_counts()[1]/len(bone_train) *100\n",
    "print(\"Percentage of Class 0 data\",Class0)\n",
    "print(\"Percentage of Class 1 data\",Class1)\n",
    "\n",
    "sns.countplot(bone_train['Class'])\n",
    "\n",
    "#Dataset is balanced.\n"
   ]
  },
  {
   "cell_type": "code",
   "execution_count": 12,
   "metadata": {
    "scrolled": false
   },
   "outputs": [
    {
     "data": {
      "text/plain": [
       "<matplotlib.axes._subplots.AxesSubplot at 0x24029510688>"
      ]
     },
     "execution_count": 12,
     "metadata": {},
     "output_type": "execute_result"
    },
    {
     "data": {
      "image/png": "[encoded data removed]",
      "text/plain": [
       "<Figure size 432x288 with 2 Axes>"
      ]
     },
     "metadata": {
      "needs_background": "light"
     },
     "output_type": "display_data"
    }
   ],
   "source": [
    "# Checking Correlation between independent variables\n",
    "sns.heatmap(bone_train.corr())"
   ]
  },
  {
   "cell_type": "code",
   "execution_count": 13,
   "metadata": {},
   "outputs": [],
   "source": [
    "# Standardizing values of the predictor variables in both train and test dataset\n",
    "from sklearn.preprocessing import StandardScaler\n",
    "standardscaler=StandardScaler()"
   ]
  },
  {
   "cell_type": "code",
   "execution_count": 14,
   "metadata": {},
   "outputs": [],
   "source": [
    "scaled_bone_train=standardscaler.fit_transform(bone_train.drop('Class', axis=1))\n",
    "scaled_bone_test=standardscaler.fit_transform(bone_test.drop('Class', axis=1))"
   ]
  },
  {
   "cell_type": "code",
   "execution_count": 15,
   "metadata": {},
   "outputs": [],
   "source": [
    "X=pd.DataFrame(scaled_bone_train, columns=[\"V1\",\"V2\",\"V3\",\"V4\",\"V5\",\"V6\",\"V7\",\"V8\",\"V9\",\"V10\",\"V11\",\"V12\"])\n",
    "y=bone_train['Class']"
   ]
  },
  {
   "cell_type": "code",
   "execution_count": 16,
   "metadata": {},
   "outputs": [],
   "source": [
    "from sklearn.model_selection import train_test_split\n",
    "X_train, X_test, y_train, y_test = train_test_split(X,y,test_size=0.2,random_state=4)"
   ]
  },
  {
   "cell_type": "code",
   "execution_count": 17,
   "metadata": {},
   "outputs": [],
   "source": [
    "from sklearn.linear_model import LogisticRegression\n",
    "from sklearn.tree import DecisionTreeClassifier\n",
    "from sklearn.naive_bayes import GaussianNB"
   ]
  },
  {
   "cell_type": "code",
   "execution_count": 106,
   "metadata": {},
   "outputs": [],
   "source": [
    "from sklearn.linear_model import LogisticRegression\n",
    "from sklearn.model_selection import cross_val_score\n",
    "from sklearn import metrics\n",
    "\n",
    "LR_model= LogisticRegression()\n",
    "LR_model.fit(X_train,y_train)\n",
    "y_prob = LR_model.predict_proba(X_test)[:,1] # This will give you positive class prediction probabilities  \n",
    "y_pred = LR_model.predict(X_test)"
   ]
  },
  {
   "cell_type": "code",
   "execution_count": 96,
   "metadata": {
    "scrolled": false
   },
   "outputs": [
    {
     "data": {
      "text/plain": [
       "<matplotlib.axes._subplots.AxesSubplot at 0x24057773a48>"
      ]
     },
     "execution_count": 96,
     "metadata": {},
     "output_type": "execute_result"
    },
    {
     "data": {
      "image/png": "[encoded data removed]",
      "text/plain": [
       "<Figure size 432x288 with 2 Axes>"
      ]
     },
     "metadata": {
      "needs_background": "light"
     },
     "output_type": "display_data"
    }
   ],
   "source": [
    "confusion_matrix=metrics.confusion_matrix(y_test,y_pred)\n",
    "sns.heatmap(confusion_matrix,annot=True, fmt='d')"
   ]
  },
  {
   "cell_type": "code",
   "execution_count": 24,
   "metadata": {
    "scrolled": true
   },
   "outputs": [
    {
     "name": "stdout",
     "output_type": "stream",
     "text": [
      "              precision    recall  f1-score   support\n",
      "\n",
      "           0       0.00      0.00      0.00     27739\n",
      "           1       0.54      1.00      0.70     32261\n",
      "\n",
      "    accuracy                           0.54     60000\n",
      "   macro avg       0.27      0.50      0.35     60000\n",
      "weighted avg       0.29      0.54      0.38     60000\n",
      "\n"
     ]
    },
    {
     "name": "stderr",
     "output_type": "stream",
     "text": [
      "C:\\Users\\Administrator\\anaconda3\\lib\\site-packages\\sklearn\\metrics\\_classification.py:1272: UndefinedMetricWarning: Precision and F-score are ill-defined and being set to 0.0 in labels with no predicted samples. Use `zero_division` parameter to control this behavior.\n",
      "  _warn_prf(average, modifier, msg_start, len(result))\n"
     ]
    }
   ],
   "source": [
    "report=metrics.classification_report(y_test,y_pred)\n",
    "print(report)"
   ]
  },
  {
   "cell_type": "code",
   "execution_count": 25,
   "metadata": {},
   "outputs": [
    {
     "name": "stdout",
     "output_type": "stream",
     "text": [
      "ROC AUC Score for Logistic Regression:  0.49938749142449834\n"
     ]
    },
    {
     "data": {
      "text/plain": [
       "Text(0.5, 0, 'False Positive Rate')"
      ]
     },
     "execution_count": 25,
     "metadata": {},
     "output_type": "execute_result"
    },
    {
     "data": {
      "image/png": "[encoded data removed]",
      "text/plain": [
       "<Figure size 720x720 with 1 Axes>"
      ]
     },
     "metadata": {
      "needs_background": "light"
     },
     "output_type": "display_data"
    }
   ],
   "source": [
    "from sklearn.metrics import roc_curve, auc\n",
    "false_positive_rate, true_positive_rate, thresholds = roc_curve(y_test, y_prob)\n",
    "roc_auc = auc(false_positive_rate, true_positive_rate)\n",
    "print(\"ROC AUC Score for Logistic Regression: \",roc_auc)\n",
    "import matplotlib.pyplot as plt\n",
    "plt.figure(figsize=(10,10))\n",
    "plt.title('Receiver Operating Characteristic')\n",
    "plt.plot(false_positive_rate,true_positive_rate, color='red',label = 'Logistic Regression AUC = %0.2f' % roc_auc)\n",
    "plt.legend(loc = 'lower right')\n",
    "plt.plot([0, 1], [0, 1],linestyle='--')\n",
    "plt.axis('tight')\n",
    "plt.ylabel('True Positive Rate')\n",
    "plt.xlabel('False Positive Rate')"
   ]
  },
  {
   "cell_type": "code",
   "execution_count": 73,
   "metadata": {},
   "outputs": [],
   "source": [
    "# classifiers=\"Decision Tree\":\n",
    "from sklearn.tree import DecisionTreeClassifier\n",
    "from sklearn.model_selection import cross_val_score\n",
    "from sklearn import metrics\n",
    "\n",
    "Dt_model= DecisionTreeClassifier()\n",
    "Dt_model.fit(X_train,y_train)\n",
    "y_prob = Dt_model.predict_proba(X_test)[:,1] # This will give you positive class prediction probabilities  \n",
    "y_pred = Dt_model.predict(X_test)\n",
    "np.where(y_prob > 0.5, 1, 0) # This will threshold the probabilities to give class predictions.\n",
    "Dt_model.score(X_test, y_pred)\n",
    "\n",
    "confusion_matrix=metrics.confusion_matrix(y_test,y_pred)"
   ]
  },
  {
   "cell_type": "code",
   "execution_count": 74,
   "metadata": {},
   "outputs": [
    {
     "data": {
      "text/plain": [
       "<matplotlib.axes._subplots.AxesSubplot at 0x2404e22e108>"
      ]
     },
     "execution_count": 74,
     "metadata": {},
     "output_type": "execute_result"
    },
    {
     "data": {
      "image/png": "[encoded data removed]",
      "text/plain": [
       "<Figure size 432x288 with 2 Axes>"
      ]
     },
     "metadata": {
      "needs_background": "light"
     },
     "output_type": "display_data"
    }
   ],
   "source": [
    "sns.heatmap(confusion_matrix,annot=True, fmt='d')"
   ]
  },
  {
   "cell_type": "code",
   "execution_count": 27,
   "metadata": {},
   "outputs": [
    {
     "name": "stdout",
     "output_type": "stream",
     "text": [
      "              precision    recall  f1-score   support\n",
      "\n",
      "           0       0.48      0.49      0.48     27739\n",
      "           1       0.56      0.55      0.55     32261\n",
      "\n",
      "    accuracy                           0.52     60000\n",
      "   macro avg       0.52      0.52      0.52     60000\n",
      "weighted avg       0.52      0.52      0.52     60000\n",
      "\n"
     ]
    }
   ],
   "source": [
    "report=metrics.classification_report(y_test,y_pred)\n",
    "print(report)"
   ]
  },
  {
   "cell_type": "code",
   "execution_count": 28,
   "metadata": {},
   "outputs": [
    {
     "name": "stdout",
     "output_type": "stream",
     "text": [
      "ROC AUC Score for Decision Tree:  0.5193449960673788\n"
     ]
    },
    {
     "data": {
      "text/plain": [
       "Text(0.5, 0, 'False Positive Rate')"
      ]
     },
     "execution_count": 28,
     "metadata": {},
     "output_type": "execute_result"
    },
    {
     "data": {
      "image/png": "[encoded data removed]",
      "text/plain": [
       "<Figure size 720x720 with 1 Axes>"
      ]
     },
     "metadata": {
      "needs_background": "light"
     },
     "output_type": "display_data"
    }
   ],
   "source": [
    "from sklearn.metrics import roc_curve, auc\n",
    "false_positive_rate, true_positive_rate, thresholds = roc_curve(y_test, y_prob)\n",
    "roc_auc = auc(false_positive_rate, true_positive_rate)\n",
    "print(\"ROC AUC Score for Decision Tree: \",roc_auc)\n",
    "import matplotlib.pyplot as plt\n",
    "plt.figure(figsize=(10,10))\n",
    "plt.title('Receiver Operating Characteristic')\n",
    "plt.plot(false_positive_rate,true_positive_rate, color='red',label = 'Decision Tree AUC = %0.2f' % roc_auc)\n",
    "plt.legend(loc = 'lower right')\n",
    "plt.plot([0, 1], [0, 1],linestyle='--')\n",
    "plt.axis('tight')\n",
    "plt.ylabel('True Positive Rate')\n",
    "plt.xlabel('False Positive Rate')"
   ]
  },
  {
   "cell_type": "code",
   "execution_count": 75,
   "metadata": {
    "scrolled": true
   },
   "outputs": [
    {
     "data": {
      "text/plain": [
       "0.5401922708353055"
      ]
     },
     "execution_count": 75,
     "metadata": {},
     "output_type": "execute_result"
    }
   ],
   "source": [
    "from sklearn.naive_bayes import GaussianNB\n",
    "\n",
    "model_naive = GaussianNB()\n",
    "model_naive.fit(X_train, y_train)\n",
    "y_prob = model_naive.predict_proba(X_test)[:,1] # This will give you positive class prediction probabilities  \n",
    "y_pred = model_naive.predict(X_test)\n",
    "#np.where(y_prob > 0.5, 1, 0) # This will threshold the probabilities to give class predictions.\n",
    "model_naive.score(X_test, y_pred)\n",
    "\n",
    "from sklearn.metrics import confusion_matrix,roc_auc_score\n",
    "confusion_matrix=confusion_matrix(y_test,y_pred)\n",
    "auc_roc=roc_auc_score(y_test,y_pred)\n",
    "auc_roc"
   ]
  },
  {
   "cell_type": "code",
   "execution_count": 76,
   "metadata": {},
   "outputs": [
    {
     "data": {
      "text/plain": [
       "<matplotlib.axes._subplots.AxesSubplot at 0x2404e3b56c8>"
      ]
     },
     "execution_count": 76,
     "metadata": {},
     "output_type": "execute_result"
    },
    {
     "data": {
      "image/png": "[encoded data removed]",
      "text/plain": [
       "<Figure size 432x288 with 2 Axes>"
      ]
     },
     "metadata": {
      "needs_background": "light"
     },
     "output_type": "display_data"
    }
   ],
   "source": [
    "sns.heatmap(confusion_matrix,annot=True, fmt='d')"
   ]
  },
  {
   "cell_type": "code",
   "execution_count": 30,
   "metadata": {},
   "outputs": [
    {
     "name": "stdout",
     "output_type": "stream",
     "text": [
      "              precision    recall  f1-score   support\n",
      "\n",
      "           0       0.54      0.29      0.38     27739\n",
      "           1       0.56      0.79      0.66     32261\n",
      "\n",
      "    accuracy                           0.56     60000\n",
      "   macro avg       0.55      0.54      0.52     60000\n",
      "weighted avg       0.55      0.56      0.53     60000\n",
      "\n"
     ]
    }
   ],
   "source": [
    "report=metrics.classification_report(y_test,y_pred)\n",
    "print(report)"
   ]
  },
  {
   "cell_type": "code",
   "execution_count": 31,
   "metadata": {},
   "outputs": [
    {
     "name": "stdout",
     "output_type": "stream",
     "text": [
      "ROC AUC Score for Naive Bayes:  0.5659498389518359\n"
     ]
    },
    {
     "data": {
      "text/plain": [
       "Text(0.5, 0, 'False Positive Rate')"
      ]
     },
     "execution_count": 31,
     "metadata": {},
     "output_type": "execute_result"
    },
    {
     "data": {
      "image/png": "[encoded data removed]",
      "text/plain": [
       "<Figure size 720x720 with 1 Axes>"
      ]
     },
     "metadata": {
      "needs_background": "light"
     },
     "output_type": "display_data"
    }
   ],
   "source": [
    "from sklearn.metrics import roc_curve, auc\n",
    "false_positive_rate, true_positive_rate, thresholds = roc_curve(y_test, y_prob)\n",
    "roc_auc = auc(false_positive_rate, true_positive_rate)\n",
    "print(\"ROC AUC Score for Naive Bayes: \",roc_auc)\n",
    "import matplotlib.pyplot as plt\n",
    "plt.figure(figsize=(10,10))\n",
    "plt.title('Receiver Operating Characteristic')\n",
    "plt.plot(false_positive_rate,true_positive_rate, color='red',label = 'Naive Bayes AUC = %0.2f' % roc_auc)\n",
    "plt.legend(loc = 'lower right')\n",
    "plt.plot([0, 1], [0, 1],linestyle='--')\n",
    "plt.axis('tight')\n",
    "plt.ylabel('True Positive Rate')\n",
    "plt.xlabel('False Positive Rate')"
   ]
  },
  {
   "cell_type": "code",
   "execution_count": 84,
   "metadata": {},
   "outputs": [
    {
     "name": "stderr",
     "output_type": "stream",
     "text": [
      "C:\\Users\\Administrator\\anaconda3\\lib\\site-packages\\ipykernel_launcher.py:10: UserWarning: Update your `Dense` call to the Keras 2 API: `Dense(activation=\"relu\", input_dim=12, units=64, kernel_initializer=\"uniform\")`\n",
      "  # Remove the CWD from sys.path while we load stuff.\n",
      "C:\\Users\\Administrator\\anaconda3\\lib\\site-packages\\ipykernel_launcher.py:13: UserWarning: Update your `Dense` call to the Keras 2 API: `Dense(activation=\"relu\", units=32, kernel_initializer=\"uniform\")`\n",
      "  del sys.path[0]\n",
      "C:\\Users\\Administrator\\anaconda3\\lib\\site-packages\\ipykernel_launcher.py:16: UserWarning: Update your `Dense` call to the Keras 2 API: `Dense(activation=\"sigmoid\", units=1, kernel_initializer=\"uniform\")`\n",
      "  app.launch_new_instance()\n"
     ]
    }
   ],
   "source": [
    "# Using Neural Nets\n",
    "# Build the model.\n",
    "from keras.models import Sequential\n",
    "from keras.layers import Dense\n",
    "from keras.utils import to_categorical\n",
    "\n",
    "classifier = Sequential()\n",
    "\n",
    "# Adding the input layer and the first hidden layer\n",
    "classifier.add(Dense(output_dim = 64, init = 'uniform', activation = 'relu', input_dim =12))\n",
    "\n",
    "# Adding the second hidden layer\n",
    "classifier.add(Dense(output_dim = 32, init = 'uniform', activation = 'relu'))\n",
    "\n",
    "# Adding the output layer\n",
    "classifier.add(Dense(output_dim = 1, init = 'uniform', activation = 'sigmoid'))\n",
    "\n",
    "# Compiling the ANN\n",
    "classifier.compile(optimizer = 'adam', loss = 'binary_crossentropy', metrics = ['accuracy'])"
   ]
  },
  {
   "cell_type": "code",
   "execution_count": 85,
   "metadata": {},
   "outputs": [
    {
     "name": "stderr",
     "output_type": "stream",
     "text": [
      "C:\\Users\\Administrator\\anaconda3\\lib\\site-packages\\ipykernel_launcher.py:1: UserWarning: The `nb_epoch` argument in `fit` has been renamed `epochs`.\n",
      "  \"\"\"Entry point for launching an IPython kernel.\n"
     ]
    },
    {
     "name": "stdout",
     "output_type": "stream",
     "text": [
      "Epoch 1/100\n",
      "240000/240000 [==============================] - 5s 19us/step - loss: 0.6790 - accuracy: 0.5679\n",
      "Epoch 2/100\n",
      "240000/240000 [==============================] - 4s 19us/step - loss: 0.6582 - accuracy: 0.6095\n",
      "Epoch 3/100\n",
      "240000/240000 [==============================] - 5s 19us/step - loss: 0.6325 - accuracy: 0.6401\n",
      "Epoch 4/100\n",
      "240000/240000 [==============================] - 4s 18us/step - loss: 0.6110 - accuracy: 0.6610\n",
      "Epoch 5/100\n",
      "240000/240000 [==============================] - 5s 19us/step - loss: 0.5878 - accuracy: 0.6799\n",
      "Epoch 6/100\n",
      "240000/240000 [==============================] - 4s 19us/step - loss: 0.5664 - accuracy: 0.6977\n",
      "Epoch 7/100\n",
      "240000/240000 [==============================] - 4s 18us/step - loss: 0.5512 - accuracy: 0.7105\n",
      "Epoch 8/100\n",
      "240000/240000 [==============================] - 4s 18us/step - loss: 0.5398 - accuracy: 0.7207\n",
      "Epoch 9/100\n",
      "240000/240000 [==============================] - 4s 18us/step - loss: 0.5305 - accuracy: 0.7281\n",
      "Epoch 10/100\n",
      "240000/240000 [==============================] - 4s 18us/step - loss: 0.5217 - accuracy: 0.7366\n",
      "Epoch 11/100\n",
      "240000/240000 [==============================] - 4s 18us/step - loss: 0.5141 - accuracy: 0.7427\n",
      "Epoch 12/100\n",
      "240000/240000 [==============================] - 4s 16us/step - loss: 0.5071 - accuracy: 0.7490\n",
      "Epoch 13/100\n",
      "240000/240000 [==============================] - 2s 10us/step - loss: 0.5019 - accuracy: 0.7525\n",
      "Epoch 14/100\n",
      "240000/240000 [==============================] - 2s 10us/step - loss: 0.4967 - accuracy: 0.7575\n",
      "Epoch 15/100\n",
      "240000/240000 [==============================] - 2s 9us/step - loss: 0.4915 - accuracy: 0.7612\n",
      "Epoch 16/100\n",
      "240000/240000 [==============================] - 2s 10us/step - loss: 0.4870 - accuracy: 0.7643\n",
      "Epoch 17/100\n",
      "240000/240000 [==============================] - 2s 10us/step - loss: 0.4819 - accuracy: 0.7679\n",
      "Epoch 18/100\n",
      "240000/240000 [==============================] - 3s 11us/step - loss: 0.4765 - accuracy: 0.7714\n",
      "Epoch 19/100\n",
      "240000/240000 [==============================] - 3s 11us/step - loss: 0.4695 - accuracy: 0.7768\n",
      "Epoch 20/100\n",
      "240000/240000 [==============================] - 3s 11us/step - loss: 0.4630 - accuracy: 0.7806\n",
      "Epoch 21/100\n",
      "240000/240000 [==============================] - 3s 11us/step - loss: 0.4558 - accuracy: 0.7856\n",
      "Epoch 22/100\n",
      "240000/240000 [==============================] - 3s 11us/step - loss: 0.4486 - accuracy: 0.7910\n",
      "Epoch 23/100\n",
      "240000/240000 [==============================] - 3s 12us/step - loss: 0.4405 - accuracy: 0.7945\n",
      "Epoch 24/100\n",
      "240000/240000 [==============================] - 2s 10us/step - loss: 0.4329 - accuracy: 0.7983 0s - los\n",
      "Epoch 25/100\n",
      "240000/240000 [==============================] - 2s 10us/step - loss: 0.4259 - accuracy: 0.8033\n",
      "Epoch 26/100\n",
      "240000/240000 [==============================] - 2s 10us/step - loss: 0.4191 - accuracy: 0.8073\n",
      "Epoch 27/100\n",
      "240000/240000 [==============================] - 2s 10us/step - loss: 0.4130 - accuracy: 0.8112\n",
      "Epoch 28/100\n",
      "240000/240000 [==============================] - 2s 10us/step - loss: 0.4083 - accuracy: 0.8133\n",
      "Epoch 29/100\n",
      "240000/240000 [==============================] - 2s 10us/step - loss: 0.4037 - accuracy: 0.8166\n",
      "Epoch 30/100\n",
      "240000/240000 [==============================] - 2s 10us/step - loss: 0.4003 - accuracy: 0.8193\n",
      "Epoch 31/100\n",
      "240000/240000 [==============================] - 2s 10us/step - loss: 0.3954 - accuracy: 0.8215\n",
      "Epoch 32/100\n",
      "240000/240000 [==============================] - 2s 10us/step - loss: 0.3911 - accuracy: 0.8247\n",
      "Epoch 33/100\n",
      "240000/240000 [==============================] - 2s 10us/step - loss: 0.3863 - accuracy: 0.8277\n",
      "Epoch 34/100\n",
      "240000/240000 [==============================] - 2s 10us/step - loss: 0.3838 - accuracy: 0.8291\n",
      "Epoch 35/100\n",
      "240000/240000 [==============================] - 2s 9us/step - loss: 0.3800 - accuracy: 0.8306\n",
      "Epoch 36/100\n",
      "240000/240000 [==============================] - 2s 10us/step - loss: 0.3770 - accuracy: 0.8332\n",
      "Epoch 37/100\n",
      "240000/240000 [==============================] - 2s 10us/step - loss: 0.3743 - accuracy: 0.8345\n",
      "Epoch 38/100\n",
      "240000/240000 [==============================] - 2s 9us/step - loss: 0.3709 - accuracy: 0.8361\n",
      "Epoch 39/100\n",
      "240000/240000 [==============================] - 2s 9us/step - loss: 0.3690 - accuracy: 0.8376\n",
      "Epoch 40/100\n",
      "240000/240000 [==============================] - 2s 10us/step - loss: 0.3666 - accuracy: 0.8386\n",
      "Epoch 41/100\n",
      "240000/240000 [==============================] - 2s 10us/step - loss: 0.3644 - accuracy: 0.8400\n",
      "Epoch 42/100\n",
      "240000/240000 [==============================] - 2s 9us/step - loss: 0.3603 - accuracy: 0.8418\n",
      "Epoch 43/100\n",
      "240000/240000 [==============================] - 2s 9us/step - loss: 0.3570 - accuracy: 0.8437\n",
      "Epoch 44/100\n",
      "240000/240000 [==============================] - 2s 9us/step - loss: 0.3521 - accuracy: 0.8466\n",
      "Epoch 45/100\n",
      "240000/240000 [==============================] - 2s 9us/step - loss: 0.3489 - accuracy: 0.8479\n",
      "Epoch 46/100\n",
      "240000/240000 [==============================] - 2s 10us/step - loss: 0.3430 - accuracy: 0.8517\n",
      "Epoch 47/100\n",
      "240000/240000 [==============================] - 2s 9us/step - loss: 0.3371 - accuracy: 0.8549\n",
      "Epoch 48/100\n",
      "240000/240000 [==============================] - 2s 10us/step - loss: 0.3312 - accuracy: 0.8577\n",
      "Epoch 49/100\n",
      "240000/240000 [==============================] - 2s 10us/step - loss: 0.3265 - accuracy: 0.8604\n",
      "Epoch 50/100\n",
      "240000/240000 [==============================] - 2s 10us/step - loss: 0.3208 - accuracy: 0.8637\n",
      "Epoch 51/100\n",
      "240000/240000 [==============================] - 2s 10us/step - loss: 0.3173 - accuracy: 0.8655\n",
      "Epoch 52/100\n",
      "240000/240000 [==============================] - 2s 9us/step - loss: 0.3130 - accuracy: 0.8671\n",
      "Epoch 53/100\n",
      "240000/240000 [==============================] - 2s 9us/step - loss: 0.3099 - accuracy: 0.8696\n",
      "Epoch 54/100\n",
      "240000/240000 [==============================] - 2s 9us/step - loss: 0.3074 - accuracy: 0.8712\n",
      "Epoch 55/100\n",
      "240000/240000 [==============================] - 2s 9us/step - loss: 0.3050 - accuracy: 0.8730\n",
      "Epoch 56/100\n",
      "240000/240000 [==============================] - 2s 10us/step - loss: 0.3021 - accuracy: 0.8736\n",
      "Epoch 57/100\n",
      "240000/240000 [==============================] - 2s 9us/step - loss: 0.2992 - accuracy: 0.8751\n",
      "Epoch 58/100\n",
      "240000/240000 [==============================] - 3s 12us/step - loss: 0.2977 - accuracy: 0.8761\n",
      "Epoch 59/100\n",
      "240000/240000 [==============================] - 2s 10us/step - loss: 0.2965 - accuracy: 0.8765\n",
      "Epoch 60/100\n",
      "240000/240000 [==============================] - 2s 10us/step - loss: 0.2935 - accuracy: 0.8777\n",
      "Epoch 61/100\n",
      "240000/240000 [==============================] - 2s 10us/step - loss: 0.2917 - accuracy: 0.8791\n",
      "Epoch 62/100\n",
      "240000/240000 [==============================] - 2s 10us/step - loss: 0.2901 - accuracy: 0.8800\n",
      "Epoch 63/100\n",
      "240000/240000 [==============================] - 2s 10us/step - loss: 0.2886 - accuracy: 0.8795\n",
      "Epoch 64/100\n",
      "240000/240000 [==============================] - 2s 10us/step - loss: 0.2877 - accuracy: 0.8802\n",
      "Epoch 65/100\n",
      "240000/240000 [==============================] - 2s 10us/step - loss: 0.2864 - accuracy: 0.8816\n",
      "Epoch 66/100\n",
      "240000/240000 [==============================] - 2s 10us/step - loss: 0.2847 - accuracy: 0.8816\n",
      "Epoch 67/100\n",
      "240000/240000 [==============================] - 2s 10us/step - loss: 0.2840 - accuracy: 0.8823\n",
      "Epoch 68/100\n",
      "240000/240000 [==============================] - 2s 10us/step - loss: 0.2831 - accuracy: 0.8825\n",
      "Epoch 69/100\n",
      "240000/240000 [==============================] - 2s 10us/step - loss: 0.2819 - accuracy: 0.8834\n",
      "Epoch 70/100\n",
      "240000/240000 [==============================] - 2s 10us/step - loss: 0.2810 - accuracy: 0.8835\n",
      "Epoch 71/100\n",
      "240000/240000 [==============================] - 2s 10us/step - loss: 0.2810 - accuracy: 0.8833\n",
      "Epoch 72/100\n",
      "240000/240000 [==============================] - 2s 10us/step - loss: 0.2801 - accuracy: 0.8836\n",
      "Epoch 73/100\n",
      "240000/240000 [==============================] - 3s 12us/step - loss: 0.2775 - accuracy: 0.8845\n",
      "Epoch 74/100\n",
      "240000/240000 [==============================] - 3s 11us/step - loss: 0.2785 - accuracy: 0.8845\n",
      "Epoch 75/100\n",
      "240000/240000 [==============================] - 2s 10us/step - loss: 0.2773 - accuracy: 0.8845\n",
      "Epoch 76/100\n"
     ]
    },
    {
     "name": "stdout",
     "output_type": "stream",
     "text": [
      "240000/240000 [==============================] - 2s 10us/step - loss: 0.2759 - accuracy: 0.8855\n",
      "Epoch 77/100\n",
      "240000/240000 [==============================] - 2s 10us/step - loss: 0.2756 - accuracy: 0.8859\n",
      "Epoch 78/100\n",
      "240000/240000 [==============================] - 2s 10us/step - loss: 0.2753 - accuracy: 0.8859\n",
      "Epoch 79/100\n",
      "240000/240000 [==============================] - 2s 10us/step - loss: 0.2747 - accuracy: 0.8858\n",
      "Epoch 80/100\n",
      "240000/240000 [==============================] - 2s 10us/step - loss: 0.2739 - accuracy: 0.8858\n",
      "Epoch 81/100\n",
      "240000/240000 [==============================] - 2s 10us/step - loss: 0.2728 - accuracy: 0.8873\n",
      "Epoch 82/100\n",
      "240000/240000 [==============================] - 2s 10us/step - loss: 0.2730 - accuracy: 0.8864\n",
      "Epoch 83/100\n",
      "240000/240000 [==============================] - 2s 10us/step - loss: 0.2718 - accuracy: 0.8869\n",
      "Epoch 84/100\n",
      "240000/240000 [==============================] - 2s 10us/step - loss: 0.2719 - accuracy: 0.8871\n",
      "Epoch 85/100\n",
      "240000/240000 [==============================] - 2s 10us/step - loss: 0.2705 - accuracy: 0.8879\n",
      "Epoch 86/100\n",
      "240000/240000 [==============================] - 2s 10us/step - loss: 0.2702 - accuracy: 0.8874\n",
      "Epoch 87/100\n",
      "240000/240000 [==============================] - 2s 9us/step - loss: 0.2705 - accuracy: 0.8878\n",
      "Epoch 88/100\n",
      "240000/240000 [==============================] - 2s 10us/step - loss: 0.2696 - accuracy: 0.8885\n",
      "Epoch 89/100\n",
      "240000/240000 [==============================] - 2s 9us/step - loss: 0.2700 - accuracy: 0.8878\n",
      "Epoch 90/100\n",
      "240000/240000 [==============================] - 2s 10us/step - loss: 0.2682 - accuracy: 0.8884\n",
      "Epoch 91/100\n",
      "240000/240000 [==============================] - 2s 9us/step - loss: 0.2686 - accuracy: 0.8880\n",
      "Epoch 92/100\n",
      "240000/240000 [==============================] - 2s 10us/step - loss: 0.2675 - accuracy: 0.8889\n",
      "Epoch 93/100\n",
      "240000/240000 [==============================] - 2s 9us/step - loss: 0.2679 - accuracy: 0.8890\n",
      "Epoch 94/100\n",
      "240000/240000 [==============================] - 2s 10us/step - loss: 0.2669 - accuracy: 0.8886\n",
      "Epoch 95/100\n",
      "240000/240000 [==============================] - 2s 9us/step - loss: 0.2665 - accuracy: 0.8896\n",
      "Epoch 96/100\n",
      "240000/240000 [==============================] - 2s 10us/step - loss: 0.2664 - accuracy: 0.8888\n",
      "Epoch 97/100\n",
      "240000/240000 [==============================] - 2s 10us/step - loss: 0.2648 - accuracy: 0.8899\n",
      "Epoch 98/100\n",
      "240000/240000 [==============================] - 2s 10us/step - loss: 0.2660 - accuracy: 0.8898\n",
      "Epoch 99/100\n",
      "240000/240000 [==============================] - 2s 10us/step - loss: 0.2645 - accuracy: 0.8901\n",
      "Epoch 100/100\n",
      "240000/240000 [==============================] - 2s 9us/step - loss: 0.2645 - accuracy: 0.8899\n"
     ]
    },
    {
     "data": {
      "text/plain": [
       "<keras.callbacks.callbacks.History at 0x2404c086e08>"
      ]
     },
     "execution_count": 85,
     "metadata": {},
     "output_type": "execute_result"
    }
   ],
   "source": [
    "classifier.fit(X_train, y_train, batch_size = 100, nb_epoch = 100)"
   ]
  },
  {
   "cell_type": "code",
   "execution_count": 86,
   "metadata": {},
   "outputs": [],
   "source": [
    "y_pred = classifier.predict(X_test)"
   ]
  },
  {
   "cell_type": "code",
   "execution_count": 87,
   "metadata": {},
   "outputs": [],
   "source": [
    "y_prob = classifier.predict_proba(X_test)"
   ]
  },
  {
   "cell_type": "code",
   "execution_count": 88,
   "metadata": {},
   "outputs": [
    {
     "data": {
      "text/plain": [
       "array([[24534,  3205],\n",
       "       [ 3114, 29147]], dtype=int64)"
      ]
     },
     "execution_count": 88,
     "metadata": {},
     "output_type": "execute_result"
    }
   ],
   "source": [
    "import seaborn as sns\n",
    "from sklearn.metrics import confusion_matrix\n",
    "from sklearn.metrics import accuracy_score\n",
    "cm=confusion_matrix(y_test,y_pred.round())\n",
    "cm"
   ]
  },
  {
   "cell_type": "code",
   "execution_count": 89,
   "metadata": {},
   "outputs": [
    {
     "data": {
      "text/plain": [
       "<matplotlib.axes._subplots.AxesSubplot at 0x240576a8d08>"
      ]
     },
     "execution_count": 89,
     "metadata": {},
     "output_type": "execute_result"
    },
    {
     "data": {
      "image/png": "[encoded data removed]",
      "text/plain": [
       "<Figure size 432x288 with 2 Axes>"
      ]
     },
     "metadata": {
      "needs_background": "light"
     },
     "output_type": "display_data"
    }
   ],
   "source": [
    "sns.heatmap(cm,annot=True, fmt='d')"
   ]
  },
  {
   "cell_type": "code",
   "execution_count": 90,
   "metadata": {},
   "outputs": [
    {
     "name": "stdout",
     "output_type": "stream",
     "text": [
      "              precision    recall  f1-score   support\n",
      "\n",
      "           0       0.89      0.88      0.89     27739\n",
      "           1       0.90      0.90      0.90     32261\n",
      "\n",
      "    accuracy                           0.89     60000\n",
      "   macro avg       0.89      0.89      0.89     60000\n",
      "weighted avg       0.89      0.89      0.89     60000\n",
      "\n"
     ]
    }
   ],
   "source": [
    "report=metrics.classification_report(y_test,y_pred.round())\n",
    "print(report)"
   ]
  },
  {
   "cell_type": "code",
   "execution_count": 91,
   "metadata": {},
   "outputs": [
    {
     "name": "stdout",
     "output_type": "stream",
     "text": [
      "ROC AUC Score for Neural Nets:  0.9608896993452293\n"
     ]
    },
    {
     "data": {
      "text/plain": [
       "Text(0.5, 0, 'False Positive Rate')"
      ]
     },
     "execution_count": 91,
     "metadata": {},
     "output_type": "execute_result"
    },
    {
     "data": {
      "image/png": "[encoded data removed]",
      "text/plain": [
       "<Figure size 720x720 with 1 Axes>"
      ]
     },
     "metadata": {
      "needs_background": "light"
     },
     "output_type": "display_data"
    }
   ],
   "source": [
    "from sklearn.metrics import roc_curve, auc\n",
    "false_positive_rate, true_positive_rate, thresholds = roc_curve(y_test, y_prob)\n",
    "roc_auc = auc(false_positive_rate, true_positive_rate)\n",
    "print(\"ROC AUC Score for Neural Nets: \",roc_auc)\n",
    "import matplotlib.pyplot as plt\n",
    "plt.figure(figsize=(10,10))\n",
    "plt.title('Receiver Operating Characteristic')\n",
    "plt.plot(false_positive_rate,true_positive_rate, color='red',label = 'Neural Network AUC = %0.2f' % roc_auc)\n",
    "plt.legend(loc = 'lower right')\n",
    "plt.plot([0, 1], [0, 1],linestyle='--')\n",
    "plt.axis('tight')\n",
    "plt.ylabel('True Positive Rate')\n",
    "plt.xlabel('False Positive Rate')"
   ]
  },
  {
   "cell_type": "code",
   "execution_count": 92,
   "metadata": {},
   "outputs": [
    {
     "data": {
      "text/plain": [
       "array([[1],\n",
       "       [1],\n",
       "       [1],\n",
       "       ...,\n",
       "       [0],\n",
       "       [0],\n",
       "       [0]])"
      ]
     },
     "execution_count": 92,
     "metadata": {},
     "output_type": "execute_result"
    }
   ],
   "source": [
    "# Predicting the test data using Neural Nets as the ROC AUC Score is best among other machine learning\n",
    "test_pred=classifier.predict(scaled_bone_test)\n",
    "test_pred=np.where(test_pred>0.5,1,0)\n",
    "test_pred"
   ]
  },
  {
   "cell_type": "code",
   "execution_count": 93,
   "metadata": {},
   "outputs": [],
   "source": [
    "file1 = open(\"test-out.txt\",\"w\")  \n",
    "# \\n is placed to indicate EOL (End of Line) \n",
    "file1.write(\"Abhishek Kumar Pandey\")\n",
    "file1.write(\"\\n\")\n",
    "for row in test_pred:\n",
    "    np.savetxt(file1, row,fmt='%d')\n",
    "file1.close()"
   ]
  },
  {
   "cell_type": "code",
   "execution_count": null,
   "metadata": {},
   "outputs": [],
   "source": []
  }
 ],
 "metadata": {
  "kernelspec": {
   "display_name": "Python 3",
   "language": "python",
   "name": "python3"
  },
  "language_info": {
   "codemirror_mode": {
    "name": "ipython",
    "version": 3
   },
   "file_extension": ".py",
   "mimetype": "text/x-python",
   "name": "python",
   "nbconvert_exporter": "python",
   "pygments_lexer": "ipython3",
   "version": "3.7.6"
  }
 },
 "nbformat": 4,
 "nbformat_minor": 4
}
